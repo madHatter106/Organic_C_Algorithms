{
 "cells": [
  {
   "cell_type": "code",
   "execution_count": 29,
   "metadata": {},
   "outputs": [],
   "source": [
    "import pickle\n",
    "import pandas as pd\n",
    "import numpy as np\n",
    "from cmocean.cm import balance_r\n",
    "import matplotlib.pyplot as pl\n",
    "from seaborn import heatmap"
   ]
  },
  {
   "cell_type": "code",
   "execution_count": 2,
   "metadata": {},
   "outputs": [],
   "source": [
    "% matplotlib inline"
   ]
  },
  {
   "cell_type": "code",
   "execution_count": 3,
   "metadata": {},
   "outputs": [],
   "source": [
    "with open('./Dataset/aurin_v1.pkl', 'rb') as fb:\n",
    "    dataset = pickle.load(fb)"
   ]
  },
  {
   "cell_type": "code",
   "execution_count": 6,
   "metadata": {},
   "outputs": [
    {
     "name": "stdout",
     "output_type": "stream",
     "text": [
      "<class 'pandas.core.frame.DataFrame'>\n",
      "Int64Index: 51192 entries, 0 to 51191\n",
      "Data columns (total 16 columns):\n",
      "sample_id    51192 non-null int32\n",
      "year         51192 non-null uint16\n",
      "month        51192 non-null uint8\n",
      "day          51192 non-null uint8\n",
      "hr           51192 non-null uint8\n",
      "min          51192 non-null uint8\n",
      "lat          51192 non-null float64\n",
      "lon          51192 non-null float64\n",
      "bdepth       51086 non-null float64\n",
      "depth        51188 non-null float64\n",
      "Wt           47432 non-null float64\n",
      "Sal          47542 non-null float64\n",
      "ag412        48378 non-null float64\n",
      "S275:295     2480 non-null float64\n",
      "DOC          1957 non-null float64\n",
      "POC          625 non-null float64\n",
      "dtypes: float64(10), int32(1), uint16(1), uint8(4)\n",
      "memory usage: 4.8 MB\n"
     ]
    }
   ],
   "source": [
    "dataset.info()"
   ]
  },
  {
   "cell_type": "code",
   "execution_count": 11,
   "metadata": {},
   "outputs": [],
   "source": [
    "df_novak = pd.read_pickle('./Dataset/novak_v1.pkl')"
   ]
  },
  {
   "cell_type": "code",
   "execution_count": 12,
   "metadata": {},
   "outputs": [
    {
     "name": "stdout",
     "output_type": "stream",
     "text": [
      "<class 'pandas.core.frame.DataFrame'>\n",
      "RangeIndex: 1325 entries, 1 to 1325\n",
      "Data columns (total 17 columns):\n",
      "sample_id    1325 non-null object\n",
      "year         1325 non-null object\n",
      "month        1325 non-null object\n",
      "day          1325 non-null object\n",
      "hr           1325 non-null object\n",
      "min          1325 non-null object\n",
      "lat          1325 non-null object\n",
      "lon          1325 non-null object\n",
      "bdepth       1224 non-null object\n",
      "depth        1135 non-null object\n",
      "Wt           816 non-null object\n",
      "Sal          997 non-null object\n",
      "ag412        1207 non-null object\n",
      "S275:295     1208 non-null object\n",
      "DOC          1258 non-null object\n",
      "POC1         1321 non-null object\n",
      "POC2         1321 non-null object\n",
      "dtypes: object(17)\n",
      "memory usage: 176.1+ KB\n"
     ]
    }
   ],
   "source": [
    "df_novak.info()"
   ]
  },
  {
   "cell_type": "code",
   "execution_count": 13,
   "metadata": {},
   "outputs": [
    {
     "name": "stdout",
     "output_type": "stream",
     "text": [
      "<class 'pandas.core.frame.DataFrame'>\n",
      "Int64Index: 749 entries, 1 to 1046\n",
      "Data columns (total 17 columns):\n",
      "sample_id    749 non-null object\n",
      "year         749 non-null object\n",
      "month        749 non-null object\n",
      "day          749 non-null object\n",
      "hr           749 non-null object\n",
      "min          749 non-null object\n",
      "lat          749 non-null object\n",
      "lon          749 non-null object\n",
      "bdepth       749 non-null object\n",
      "depth        749 non-null object\n",
      "Wt           749 non-null object\n",
      "Sal          749 non-null object\n",
      "ag412        749 non-null object\n",
      "S275:295     749 non-null object\n",
      "DOC          749 non-null object\n",
      "POC1         749 non-null object\n",
      "POC2         749 non-null object\n",
      "dtypes: object(17)\n",
      "memory usage: 105.3+ KB\n"
     ]
    }
   ],
   "source": [
    "df_novak.dropna().info()"
   ]
  },
  {
   "cell_type": "code",
   "execution_count": 7,
   "metadata": {},
   "outputs": [],
   "source": [
    "df_merged = pd.read_pickle('./Dataset/novak_aurin_merged_v1.pkl')"
   ]
  },
  {
   "cell_type": "code",
   "execution_count": 8,
   "metadata": {},
   "outputs": [
    {
     "name": "stdout",
     "output_type": "stream",
     "text": [
      "<class 'pandas.core.frame.DataFrame'>\n",
      "Int64Index: 52517 entries, 1 to 51191\n",
      "Data columns (total 14 columns):\n",
      "year        52517 non-null object\n",
      "month       52517 non-null object\n",
      "day         52517 non-null object\n",
      "hr          52517 non-null object\n",
      "min         52517 non-null object\n",
      "lat         52517 non-null object\n",
      "lon         52517 non-null object\n",
      "bdepth      52310 non-null object\n",
      "depth       52323 non-null object\n",
      "Wt          48248 non-null object\n",
      "Sal         48539 non-null object\n",
      "ag412       49585 non-null object\n",
      "S275:295    3688 non-null object\n",
      "DOC         3215 non-null object\n",
      "dtypes: object(14)\n",
      "memory usage: 6.0+ MB\n"
     ]
    }
   ],
   "source": [
    "df_merged.info()"
   ]
  },
  {
   "cell_type": "code",
   "execution_count": 9,
   "metadata": {},
   "outputs": [
    {
     "name": "stdout",
     "output_type": "stream",
     "text": [
      "<class 'pandas.core.frame.DataFrame'>\n",
      "Int64Index: 1146 entries, 1 to 3182\n",
      "Data columns (total 14 columns):\n",
      "year        1146 non-null object\n",
      "month       1146 non-null object\n",
      "day         1146 non-null object\n",
      "hr          1146 non-null object\n",
      "min         1146 non-null object\n",
      "lat         1146 non-null object\n",
      "lon         1146 non-null object\n",
      "bdepth      1146 non-null object\n",
      "depth       1146 non-null object\n",
      "Wt          1146 non-null object\n",
      "Sal         1146 non-null object\n",
      "ag412       1146 non-null object\n",
      "S275:295    1146 non-null object\n",
      "DOC         1146 non-null object\n",
      "dtypes: object(14)\n",
      "memory usage: 134.3+ KB\n"
     ]
    }
   ],
   "source": [
    "df_merged.dropna().info()"
   ]
  },
  {
   "cell_type": "code",
   "execution_count": 26,
   "metadata": {},
   "outputs": [
    {
     "data": {
      "text/plain": [
       "lat    -59.5018\n",
       "lon   -149.9970\n",
       "dtype: float64"
      ]
     },
     "execution_count": 26,
     "metadata": {},
     "output_type": "execute_result"
    }
   ],
   "source": [
    "df_merged.dropna()[['lat', 'lon']].min(axis=0)"
   ]
  },
  {
   "cell_type": "code",
   "execution_count": 27,
   "metadata": {},
   "outputs": [
    {
     "data": {
      "text/plain": [
       "lat    44.233183\n",
       "lon    95.006200\n",
       "dtype: float64"
      ]
     },
     "execution_count": 27,
     "metadata": {},
     "output_type": "execute_result"
    }
   ],
   "source": [
    "df_merged.dropna()[['lat', 'lon']].max(axis=0)"
   ]
  },
  {
   "cell_type": "code",
   "execution_count": 36,
   "metadata": {},
   "outputs": [],
   "source": [
    "df_ms = df_merged.dropna().loc[:,'lat':]"
   ]
  },
  {
   "cell_type": "code",
   "execution_count": 46,
   "metadata": {},
   "outputs": [],
   "source": [
    "df_merged = df_merged.astype('f8')"
   ]
  },
  {
   "cell_type": "code",
   "execution_count": 47,
   "metadata": {},
   "outputs": [
    {
     "name": "stdout",
     "output_type": "stream",
     "text": [
      "<class 'pandas.core.frame.DataFrame'>\n",
      "Int64Index: 52517 entries, 1 to 51191\n",
      "Data columns (total 14 columns):\n",
      "year        52517 non-null float64\n",
      "month       52517 non-null float64\n",
      "day         52517 non-null float64\n",
      "hr          52517 non-null float64\n",
      "min         52517 non-null float64\n",
      "lat         52517 non-null float64\n",
      "lon         52517 non-null float64\n",
      "bdepth      52310 non-null float64\n",
      "depth       52323 non-null float64\n",
      "Wt          48248 non-null float64\n",
      "Sal         48539 non-null float64\n",
      "ag412       49585 non-null float64\n",
      "S275:295    3688 non-null float64\n",
      "DOC         3215 non-null float64\n",
      "dtypes: float64(14)\n",
      "memory usage: 6.0 MB\n"
     ]
    }
   ],
   "source": [
    "df_merged.info()"
   ]
  },
  {
   "cell_type": "code",
   "execution_count": 48,
   "metadata": {},
   "outputs": [],
   "source": [
    "df_ms = df_merged.dropna().loc[:, 'lat':]"
   ]
  },
  {
   "cell_type": "code",
   "execution_count": 49,
   "metadata": {},
   "outputs": [
    {
     "data": {
      "text/html": [
       "<div>\n",
       "<style scoped>\n",
       "    .dataframe tbody tr th:only-of-type {\n",
       "        vertical-align: middle;\n",
       "    }\n",
       "\n",
       "    .dataframe tbody tr th {\n",
       "        vertical-align: top;\n",
       "    }\n",
       "\n",
       "    .dataframe thead th {\n",
       "        text-align: right;\n",
       "    }\n",
       "</style>\n",
       "<table border=\"1\" class=\"dataframe\">\n",
       "  <thead>\n",
       "    <tr style=\"text-align: right;\">\n",
       "      <th></th>\n",
       "      <th>lat</th>\n",
       "      <th>lon</th>\n",
       "      <th>bdepth</th>\n",
       "      <th>depth</th>\n",
       "      <th>Wt</th>\n",
       "      <th>Sal</th>\n",
       "      <th>ag412</th>\n",
       "      <th>S275:295</th>\n",
       "      <th>DOC</th>\n",
       "    </tr>\n",
       "  </thead>\n",
       "  <tbody>\n",
       "    <tr>\n",
       "      <th>lat</th>\n",
       "      <td>1.000000</td>\n",
       "      <td>-0.658293</td>\n",
       "      <td>-0.835743</td>\n",
       "      <td>0.078590</td>\n",
       "      <td>-0.045708</td>\n",
       "      <td>-0.154797</td>\n",
       "      <td>0.218019</td>\n",
       "      <td>-0.460882</td>\n",
       "      <td>0.187867</td>\n",
       "    </tr>\n",
       "    <tr>\n",
       "      <th>lon</th>\n",
       "      <td>-0.658293</td>\n",
       "      <td>1.000000</td>\n",
       "      <td>0.543981</td>\n",
       "      <td>-0.001978</td>\n",
       "      <td>-0.101355</td>\n",
       "      <td>0.161646</td>\n",
       "      <td>-0.201686</td>\n",
       "      <td>0.305139</td>\n",
       "      <td>-0.242111</td>\n",
       "    </tr>\n",
       "    <tr>\n",
       "      <th>bdepth</th>\n",
       "      <td>-0.835743</td>\n",
       "      <td>0.543981</td>\n",
       "      <td>1.000000</td>\n",
       "      <td>0.010692</td>\n",
       "      <td>0.064702</td>\n",
       "      <td>0.258251</td>\n",
       "      <td>-0.302565</td>\n",
       "      <td>0.523498</td>\n",
       "      <td>-0.300796</td>\n",
       "    </tr>\n",
       "    <tr>\n",
       "      <th>depth</th>\n",
       "      <td>0.078590</td>\n",
       "      <td>-0.001978</td>\n",
       "      <td>0.010692</td>\n",
       "      <td>1.000000</td>\n",
       "      <td>-0.274197</td>\n",
       "      <td>0.262514</td>\n",
       "      <td>-0.221960</td>\n",
       "      <td>0.044454</td>\n",
       "      <td>-0.377358</td>\n",
       "    </tr>\n",
       "    <tr>\n",
       "      <th>Wt</th>\n",
       "      <td>-0.045708</td>\n",
       "      <td>-0.101355</td>\n",
       "      <td>0.064702</td>\n",
       "      <td>-0.274197</td>\n",
       "      <td>1.000000</td>\n",
       "      <td>-0.172628</td>\n",
       "      <td>0.031742</td>\n",
       "      <td>0.265842</td>\n",
       "      <td>0.406752</td>\n",
       "    </tr>\n",
       "    <tr>\n",
       "      <th>Sal</th>\n",
       "      <td>-0.154797</td>\n",
       "      <td>0.161646</td>\n",
       "      <td>0.258251</td>\n",
       "      <td>0.262514</td>\n",
       "      <td>-0.172628</td>\n",
       "      <td>1.000000</td>\n",
       "      <td>-0.609227</td>\n",
       "      <td>0.407302</td>\n",
       "      <td>-0.666214</td>\n",
       "    </tr>\n",
       "    <tr>\n",
       "      <th>ag412</th>\n",
       "      <td>0.218019</td>\n",
       "      <td>-0.201686</td>\n",
       "      <td>-0.302565</td>\n",
       "      <td>-0.221960</td>\n",
       "      <td>0.031742</td>\n",
       "      <td>-0.609227</td>\n",
       "      <td>1.000000</td>\n",
       "      <td>-0.670775</td>\n",
       "      <td>0.739398</td>\n",
       "    </tr>\n",
       "    <tr>\n",
       "      <th>S275:295</th>\n",
       "      <td>-0.460882</td>\n",
       "      <td>0.305139</td>\n",
       "      <td>0.523498</td>\n",
       "      <td>0.044454</td>\n",
       "      <td>0.265842</td>\n",
       "      <td>0.407302</td>\n",
       "      <td>-0.670775</td>\n",
       "      <td>1.000000</td>\n",
       "      <td>-0.447289</td>\n",
       "    </tr>\n",
       "    <tr>\n",
       "      <th>DOC</th>\n",
       "      <td>0.187867</td>\n",
       "      <td>-0.242111</td>\n",
       "      <td>-0.300796</td>\n",
       "      <td>-0.377358</td>\n",
       "      <td>0.406752</td>\n",
       "      <td>-0.666214</td>\n",
       "      <td>0.739398</td>\n",
       "      <td>-0.447289</td>\n",
       "      <td>1.000000</td>\n",
       "    </tr>\n",
       "  </tbody>\n",
       "</table>\n",
       "</div>"
      ],
      "text/plain": [
       "               lat       lon    bdepth     depth        Wt       Sal  \\\n",
       "lat       1.000000 -0.658293 -0.835743  0.078590 -0.045708 -0.154797   \n",
       "lon      -0.658293  1.000000  0.543981 -0.001978 -0.101355  0.161646   \n",
       "bdepth   -0.835743  0.543981  1.000000  0.010692  0.064702  0.258251   \n",
       "depth     0.078590 -0.001978  0.010692  1.000000 -0.274197  0.262514   \n",
       "Wt       -0.045708 -0.101355  0.064702 -0.274197  1.000000 -0.172628   \n",
       "Sal      -0.154797  0.161646  0.258251  0.262514 -0.172628  1.000000   \n",
       "ag412     0.218019 -0.201686 -0.302565 -0.221960  0.031742 -0.609227   \n",
       "S275:295 -0.460882  0.305139  0.523498  0.044454  0.265842  0.407302   \n",
       "DOC       0.187867 -0.242111 -0.300796 -0.377358  0.406752 -0.666214   \n",
       "\n",
       "             ag412  S275:295       DOC  \n",
       "lat       0.218019 -0.460882  0.187867  \n",
       "lon      -0.201686  0.305139 -0.242111  \n",
       "bdepth   -0.302565  0.523498 -0.300796  \n",
       "depth    -0.221960  0.044454 -0.377358  \n",
       "Wt        0.031742  0.265842  0.406752  \n",
       "Sal      -0.609227  0.407302 -0.666214  \n",
       "ag412     1.000000 -0.670775  0.739398  \n",
       "S275:295 -0.670775  1.000000 -0.447289  \n",
       "DOC       0.739398 -0.447289  1.000000  "
      ]
     },
     "execution_count": 49,
     "metadata": {},
     "output_type": "execute_result"
    }
   ],
   "source": [
    "df_ms.corr()"
   ]
  },
  {
   "cell_type": "code",
   "execution_count": 51,
   "metadata": {},
   "outputs": [
    {
     "data": {
      "image/png": "[encoded data removed]",
      "text/plain": [
       "<Figure size 1008x864 with 2 Axes>"
      ]
     },
     "metadata": {
      "needs_background": "light"
     },
     "output_type": "display_data"
    }
   ],
   "source": [
    "_, ax = pl.subplots(figsize=(14, 12))\n",
    "heatmap(df_ms.corr().iloc[1:, :-1], vmin=-1, vmax=1, ax=ax,\n",
    "       annot=True, cmap=balance_r, mask=np.triu(np.ones([df_ms.shape[1]-1]*2), k=1))\n",
    "ax.set_facecolor('k')"
   ]
  },
  {
   "cell_type": "code",
   "execution_count": null,
   "metadata": {},
   "outputs": [],
   "source": []
  }
 ],
 "metadata": {
  "kernelspec": {
   "display_name": "Python [conda env:machine_learning]",
   "language": "python",
   "name": "conda-env-machine_learning-py"
  },
  "language_info": {
   "codemirror_mode": {
    "name": "ipython",
    "version": 3
   },
   "file_extension": ".py",
   "mimetype": "text/x-python",
   "name": "python",
   "nbconvert_exporter": "python",
   "pygments_lexer": "ipython3",
   "version": "3.6.6"
  }
 },
 "nbformat": 4,
 "nbformat_minor": 2
}
